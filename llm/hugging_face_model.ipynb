{
 "cells": [
  {
   "cell_type": "markdown",
   "id": "439b1300",
   "metadata": {},
   "source": [
    "# Hugging Face Model\n",
    "##### uv add huggingface_hub\n",
    "##### uv add transformers accelerate\n",
    "##### uv pip install torch torchvision --index-url https://download.pytorch.org/whl/cu126\n",
    "##### # uv add -U bitsandbytes (-U : )"
   ]
  },
  {
   "cell_type": "code",
   "execution_count": 1,
   "id": "b4111422",
   "metadata": {},
   "outputs": [],
   "source": [
    "from dotenv import load_dotenv\n",
    "load_dotenv()\n",
    "\n",
    "from huggingface_hub import login\n",
    "import os\n",
    "\n",
    "login(token=os.getenv('HUGGINGFACE_API_KEY'))"
   ]
  },
  {
   "cell_type": "code",
   "execution_count": 2,
   "id": "c28aeef2",
   "metadata": {},
   "outputs": [
    {
     "name": "stdout",
     "output_type": "stream",
     "text": [
      "2.8.0+cu126\n",
      "cuda\n"
     ]
    }
   ],
   "source": [
    "import torch\n",
    "from transformers import AutoTokenizer, BitsAndBytesConfig, Gemma3ForCausalLM\n",
    "\n",
    "print(torch.__version__)\n",
    "device = 'cuda' if torch.cuda.is_available() else 'cpu'\n",
    "print(device)"
   ]
  },
  {
   "cell_type": "markdown",
   "id": "03ed72c2",
   "metadata": {},
   "source": [
    "### https://huggingface.co/google/gemma-3-1b-pt : 전체\n",
    "\n",
    "### https://huggingface.co/google/gemma-3-1b-it : 말투나 방식\n"
   ]
  },
  {
   "cell_type": "code",
   "execution_count": 7,
   "id": "a2e33ef3",
   "metadata": {},
   "outputs": [
    {
     "name": "stdout",
     "output_type": "stream",
     "text": [
      "{'input_ids': tensor([[     2, 236788,  80880,  18515,    563,   5628,    528]],\n",
      "       device='cuda:0'), 'attention_mask': tensor([[1, 1, 1, 1, 1, 1, 1]], device='cuda:0')}\n",
      "----------------------------------------------------------------------------------------------------\n",
      " the heart of Paris, France.The Eiffel Tower is a 324-meter-high tower in Paris, France.The Eiffel Tower is a symbol of Paris and France.The Eiffel Tower is a symbol of Paris and France\n"
     ]
    }
   ],
   "source": [
    "# PT\n",
    "\n",
    "ckpt = \"google/gemma-3-1b-pt\"\n",
    "\n",
    "tokenizer = AutoTokenizer.from_pretrained(ckpt)\n",
    "\n",
    "model = Gemma3ForCausalLM.from_pretrained(\n",
    "    ckpt,\n",
    "    torch_dtype=torch.bfloat16,\n",
    "    device_map=\"auto\"\n",
    ")\n",
    "\n",
    "prompt = \"Eiffel tower is located in\"\n",
    "model_inputs = tokenizer(prompt, return_tensors=\"pt\").to(model.device)\n",
    "\n",
    "print(model_inputs)\n",
    "print('-' * 100)\n",
    "\n",
    "input_len = model_inputs[\"input_ids\"].shape[-1]\n",
    "\n",
    "with torch.inference_mode():\n",
    "    generation = model.generate(**model_inputs, max_new_tokens=50, do_sample=False)\n",
    "    generation = generation[0][input_len:]\n",
    "\n",
    "decoded = tokenizer.decode(generation, skip_special_tokens=True)\n",
    "print(decoded)"
   ]
  },
  {
   "cell_type": "code",
   "execution_count": 8,
   "id": "879e9e59",
   "metadata": {},
   "outputs": [
    {
     "name": "stderr",
     "output_type": "stream",
     "text": [
      "Attempting to cast a BatchEncoding to type torch.bfloat16. This is not supported.\n"
     ]
    },
    {
     "name": "stdout",
     "output_type": "stream",
     "text": [
      "input\n",
      "<bound method Kernel.raw_input of <ipykernel.ipkernel.IPythonKernel object at 0x00000289E249B3D0>>\n",
      "----------------------------------------------------------------------------------------------------\n",
      "output\n",
      "['<bos><start_of_turn>user\\nYou are a helpful assistant.\\n\\nWrite a poem on Hugging Face, the company<end_of_turn>\\n<start_of_turn>model\\nOkay, here’s a poem about Hugging Face, aiming to capture its spirit and purpose:\\n\\n**The Algorithm’s Heart**\\n\\nIn a world of code, a digital space,\\nWhere models bloom with elegant grace,\\nHugging Face arises, bright and bold,\\nA community, a story to']\n"
     ]
    }
   ],
   "source": [
    "# IT\n",
    "\n",
    "model_id = \"google/gemma-3-1b-it\"\n",
    "\n",
    "quantization_config = BitsAndBytesConfig(load_in_8bit=True)\n",
    "\n",
    "model = Gemma3ForCausalLM.from_pretrained(\n",
    "    model_id, quantization_config=quantization_config\n",
    ").eval()\n",
    "\n",
    "tokenizer = AutoTokenizer.from_pretrained(model_id)\n",
    "\n",
    "messages = [\n",
    "    [\n",
    "        {\n",
    "            \"role\": \"system\",\n",
    "            \"content\": [{\"type\": \"text\", \"text\": \"You are a helpful assistant.\"},]\n",
    "        },\n",
    "        {\n",
    "            \"role\": \"user\",\n",
    "            \"content\": [{\"type\": \"text\", \"text\": \"Write a poem on Hugging Face, the company\"},]\n",
    "        },\n",
    "    ],\n",
    "]\n",
    "inputs = tokenizer.apply_chat_template(\n",
    "    messages,\n",
    "    add_generation_prompt=True,\n",
    "    tokenize=True,\n",
    "    return_dict=True,\n",
    "    return_tensors=\"pt\",\n",
    ").to(model.device).to(torch.bfloat16)\n",
    "\n",
    "print('input')\n",
    "print(input)\n",
    "\n",
    "\n",
    "with torch.inference_mode():\n",
    "    outputs = model.generate(**inputs, max_new_tokens=64)\n",
    "\n",
    "outputs = tokenizer.batch_decode(outputs)\n",
    "print('-' * 100)\n",
    "print('output')\n",
    "print(outputs)"
   ]
  }
 ],
 "metadata": {
  "kernelspec": {
   "display_name": "llm",
   "language": "python",
   "name": "python3"
  },
  "language_info": {
   "codemirror_mode": {
    "name": "ipython",
    "version": 3
   },
   "file_extension": ".py",
   "mimetype": "text/x-python",
   "name": "python",
   "nbconvert_exporter": "python",
   "pygments_lexer": "ipython3",
   "version": "3.10.18"
  }
 },
 "nbformat": 4,
 "nbformat_minor": 5
}
