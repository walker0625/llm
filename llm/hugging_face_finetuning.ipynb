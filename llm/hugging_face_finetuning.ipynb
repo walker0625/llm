{
 "cells": [
  {
   "cell_type": "markdown",
   "id": "5d58ea5c",
   "metadata": {},
   "source": [
    "# LLM 파인튜닝"
   ]
  },
  {
   "cell_type": "markdown",
   "id": "8bea2141",
   "metadata": {},
   "source": [
    "### 1. 모델 로드"
   ]
  },
  {
   "cell_type": "code",
   "execution_count": null,
   "id": "8f7f4542",
   "metadata": {},
   "outputs": [],
   "source": [
    "# 양자화 결정(data 사이즈나 상황에 따라)\n",
    "# parameter: quantization_config=BitsAndBytesConfig()"
   ]
  },
  {
   "cell_type": "markdown",
   "id": "7e806029",
   "metadata": {},
   "source": [
    "### 2. 토크나이저 불러오기"
   ]
  },
  {
   "cell_type": "code",
   "execution_count": 1,
   "id": "3583bae4",
   "metadata": {},
   "outputs": [],
   "source": [
    "# 텍스트 -> 텐서"
   ]
  },
  {
   "cell_type": "markdown",
   "id": "49175f31",
   "metadata": {},
   "source": [
    "### 3. 학습 데이터 준비"
   ]
  },
  {
   "cell_type": "markdown",
   "id": "57092544",
   "metadata": {},
   "source": [
    "#### 1) Huggingface 제공 데이터셋 불러오기"
   ]
  },
  {
   "cell_type": "markdown",
   "id": "c5e76dc3",
   "metadata": {},
   "source": [
    "#### 2) 커스텀 데이터셋 만들기"
   ]
  },
  {
   "cell_type": "markdown",
   "id": "1e11fb6d",
   "metadata": {},
   "source": [
    "#### 3) 학습 데이터로 만들기"
   ]
  },
  {
   "cell_type": "markdown",
   "id": "10af5b60",
   "metadata": {},
   "source": [
    "### 4. 학습"
   ]
  },
  {
   "cell_type": "markdown",
   "id": "fe5859d8",
   "metadata": {},
   "source": [
    "#### 1) 학습 설정"
   ]
  },
  {
   "cell_type": "markdown",
   "id": "dabf8994",
   "metadata": {},
   "source": [
    "#### 2) 학습"
   ]
  },
  {
   "cell_type": "markdown",
   "id": "57d970be",
   "metadata": {},
   "source": [
    "#### 3) 학습된 모델을 저장"
   ]
  }
 ],
 "metadata": {
  "kernelspec": {
   "display_name": "llm",
   "language": "python",
   "name": "python3"
  },
  "language_info": {
   "codemirror_mode": {
    "name": "ipython",
    "version": 3
   },
   "file_extension": ".py",
   "mimetype": "text/x-python",
   "name": "python",
   "nbconvert_exporter": "python",
   "pygments_lexer": "ipython3",
   "version": "3.10.18"
  }
 },
 "nbformat": 4,
 "nbformat_minor": 5
}
