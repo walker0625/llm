{
 "cells": [
  {
   "cell_type": "markdown",
   "id": "439b1300",
   "metadata": {},
   "source": [
    "# Hugging Face Dataset"
   ]
  },
  {
   "cell_type": "markdown",
   "id": "f2104a4a",
   "metadata": {},
   "source": [
    "## LLM 추가학습을 위한 dataset 생성 과정\n",
    "\n",
    "### 1. 허깅페이스 dataset을 불러오기\n",
    "### 2. dataset으로 원하는 feature를 만든다\n",
    "### 3. 내 json 파일을 dataset 형태로 만들 수 있다"
   ]
  },
  {
   "cell_type": "code",
   "execution_count": 160,
   "id": "b4111422",
   "metadata": {},
   "outputs": [],
   "source": [
    "from datasets import load_dataset"
   ]
  },
  {
   "cell_type": "code",
   "execution_count": 148,
   "id": "06d32945",
   "metadata": {},
   "outputs": [
    {
     "name": "stderr",
     "output_type": "stream",
     "text": [
      "Xet Storage is enabled for this repo, but the 'hf_xet' package is not installed. Falling back to regular HTTP download. For better performance, install the package with: `pip install huggingface_hub[hf_xet]` or `pip install hf_xet`\n"
     ]
    },
    {
     "data": {
      "application/vnd.jupyter.widget-view+json": {
       "model_id": "379a01d4b90843619bd0e7f3b69f6bd0",
       "version_major": 2,
       "version_minor": 0
      },
      "text/plain": [
       "dataset%20%281%29.csv:   0%|          | 0.00/77.8M [00:00<?, ?B/s]"
      ]
     },
     "metadata": {},
     "output_type": "display_data"
    },
    {
     "name": "stderr",
     "output_type": "stream",
     "text": [
      "c:\\walker\\code\\llm\\.venv\\lib\\site-packages\\huggingface_hub\\file_download.py:143: UserWarning: `huggingface_hub` cache-system uses symlinks by default to efficiently store duplicated files but your machine does not support them in C:\\Users\\user\\.cache\\huggingface\\hub\\datasets--jaehy12--news3. Caching files will still work but in a degraded version that might require more space on your disk. This warning can be disabled by setting the `HF_HUB_DISABLE_SYMLINKS_WARNING` environment variable. For more details, see https://huggingface.co/docs/huggingface_hub/how-to-cache#limitations.\n",
      "To support symlinks on Windows, you either need to activate Developer Mode or to run Python as an administrator. In order to activate developer mode, see this article: https://docs.microsoft.com/en-us/windows/apps/get-started/enable-your-device-for-development\n",
      "  warnings.warn(message)\n"
     ]
    },
    {
     "data": {
      "application/vnd.jupyter.widget-view+json": {
       "model_id": "a091bd91de2f4a71aa24a4b11fa6eaf6",
       "version_major": 2,
       "version_minor": 0
      },
      "text/plain": [
       "Generating train split:   0%|          | 0/24300 [00:00<?, ? examples/s]"
      ]
     },
     "metadata": {},
     "output_type": "display_data"
    },
    {
     "data": {
      "text/plain": [
       "DatasetDict({\n",
       "    train: Dataset({\n",
       "        features: ['original', 'summary'],\n",
       "        num_rows: 24300\n",
       "    })\n",
       "})"
      ]
     },
     "execution_count": 148,
     "metadata": {},
     "output_type": "execute_result"
    }
   ],
   "source": [
    "# 허깅페이스 데이터셋 로드\n",
    "ds = load_dataset(\"jaehy12/news3\")\n",
    "ds"
   ]
  },
  {
   "cell_type": "code",
   "execution_count": 149,
   "id": "6b6ea4d8",
   "metadata": {},
   "outputs": [
    {
     "data": {
      "text/plain": [
       "{'original': '오거돈 전 부산시장의 성추행 사건이 불거진 후 정치권을 중심으로 여권이 이 사실을 사전에 몰랐을까 하는 의문이 커지고 있다.\\n  미래통합당은 여권이 총선을 의식해 조직적으로 오 전 시장의 사퇴 시기를 조율했다는 의혹을 제기하고 있다.\\n  반면 민주당은 이를 강하게 부인하면서 진실공방 양상으로 번지고 있다.\\n   23일 부산성폭력상담소(이하 상담소)와 부산시 등에 따르면 사건이 발생한 시기는 4월 초다.\\n  오 전 시장으로부터 성추행 피해를 본 공무원은 이날 입장문을 통해 “이달 초 오 전 시장 수행비서의 호출을 받았다.\\n  처음 있는 일이었다.\\n  업무시간이었고, 업무상 호출이라는 말에 서둘러 집무실로 갔고 그곳에서 성추행을 당했다”고 말했다.\\n   이 공무원은 피해를 본 다음날 바로 부산성폭력상담소를 찾아 도움을 요청했다.\\n  이후 상담소의 도움을 받아 오 전 시장의 정무라인 중 한 명을 통해 사퇴하라고 요구했다.\\n  이어 양측이 사퇴를 법적으로 보장받기 위해 공증하는 과정에 4월 말이라는 시한이 정해졌다.\\n   피해 공무원이 오 전 시장을 찾아간 날 비서실에는 5~6명의 인원이 있었다.\\n  대부분이 일반 공무원이고 1명 정도만 오 시장이 데려온 정무직 공무원인 것으로 전해졌다.\\n  하지만 그날 오 전 시장의 집무실에서 무슨 일이 있었는지 아는 공무원은 한명도 없다는 것이 부산시 측의 설명이다.\\n  부산시 한 고위 공무원은 “(오 전 시장이 기자회견을 하기까지 성추행 사실을) 전혀 몰랐다.\\n  기자회견을 한다는 사실 자체도 정무라인을 통해 알았고 그 내용도 회견 15분 전에서야 통보 받았을 정도.\\n  일부 정무라인만 알았던 듯하다”라며 “오 전 시장도 정무라인도 모두 짐을 싸고 시청을 나갔는데 정말 괘씸하다.\\n  쑥대밭을 만들어 놓고 나가 직원들 모두 ‘멘붕’ 상태다”고 했다.\\n  여정섭 부산시 노조위원장은 “직원들 모두 전혀 꿈도 꾸지 못한 일이다.\\n  보좌진들마저도 금시초문이었다고 들었다.\\n  오늘(23일) 오전 9시에 오 전 시장 기자회견이 잡혔다는 말을 듣고 처음엔 정무라인 교체 관련 이야기를 하겠거니 생각했는데 갑자기 성추행 이야기가 나왔다”고 전했다.\\n   부산시의 오 전 시장 정무라인은 10여명 정도다.\\n  하지만 이날 오 시장이 사퇴 직후 이들 정무라인들도 모두 짐을 싸 시청을 떠난 뒤 연락이 닿지 않고 있다.\\n  이들 대부분에게 ‘오 전 시장 성추행 사건을 언제 알았는지, 민주당 등 여권 측과 이 내용을 상의한 적이 있는지, 피해자에게 사퇴 시기를 요구한 적이 있는지’ 등을 다시 확인하기 위해 수차례 전화를 했으나 연락을 받지 않았다.\\n ',\n",
       " 'summary': '오거돈 전 부산시장의 성추행 사건이 불거진 후 정치권을 중심으로 여권이 이 사실을 사전에 몰랐을까 하는 의문이 커지고 있다. 반면 민주당은 이를 강하게 부인하면서 진실공방 양상으로 번지고 있다.'}"
      ]
     },
     "execution_count": 149,
     "metadata": {},
     "output_type": "execute_result"
    }
   ],
   "source": [
    "ds['train'][0]"
   ]
  },
  {
   "cell_type": "code",
   "execution_count": 152,
   "id": "df69c190",
   "metadata": {},
   "outputs": [],
   "source": [
    "# 데이터셋 원하는 형태로 변환(\"custom_data\"라는 키가 있어야 map 변환 가능)\n",
    "def make_prompt(data):\n",
    "    return {\n",
    "        \"custom_data\": \n",
    "        [\n",
    "            {\"role\": \"user\", \"content\": data['original']},\n",
    "            {\"role\": \"assistant\", \"content\": data['summary']}\n",
    "        ]\n",
    "    }    "
   ]
  },
  {
   "cell_type": "code",
   "execution_count": 154,
   "id": "34893cb4",
   "metadata": {},
   "outputs": [
    {
     "data": {
      "text/plain": [
       "{'custom_data': [{'role': 'user',\n",
       "   'content': '오거돈 전 부산시장의 성추행 사건이 불거진 후 정치권을 중심으로 여권이 이 사실을 사전에 몰랐을까 하는 의문이 커지고 있다.\\n  미래통합당은 여권이 총선을 의식해 조직적으로 오 전 시장의 사퇴 시기를 조율했다는 의혹을 제기하고 있다.\\n  반면 민주당은 이를 강하게 부인하면서 진실공방 양상으로 번지고 있다.\\n   23일 부산성폭력상담소(이하 상담소)와 부산시 등에 따르면 사건이 발생한 시기는 4월 초다.\\n  오 전 시장으로부터 성추행 피해를 본 공무원은 이날 입장문을 통해 “이달 초 오 전 시장 수행비서의 호출을 받았다.\\n  처음 있는 일이었다.\\n  업무시간이었고, 업무상 호출이라는 말에 서둘러 집무실로 갔고 그곳에서 성추행을 당했다”고 말했다.\\n   이 공무원은 피해를 본 다음날 바로 부산성폭력상담소를 찾아 도움을 요청했다.\\n  이후 상담소의 도움을 받아 오 전 시장의 정무라인 중 한 명을 통해 사퇴하라고 요구했다.\\n  이어 양측이 사퇴를 법적으로 보장받기 위해 공증하는 과정에 4월 말이라는 시한이 정해졌다.\\n   피해 공무원이 오 전 시장을 찾아간 날 비서실에는 5~6명의 인원이 있었다.\\n  대부분이 일반 공무원이고 1명 정도만 오 시장이 데려온 정무직 공무원인 것으로 전해졌다.\\n  하지만 그날 오 전 시장의 집무실에서 무슨 일이 있었는지 아는 공무원은 한명도 없다는 것이 부산시 측의 설명이다.\\n  부산시 한 고위 공무원은 “(오 전 시장이 기자회견을 하기까지 성추행 사실을) 전혀 몰랐다.\\n  기자회견을 한다는 사실 자체도 정무라인을 통해 알았고 그 내용도 회견 15분 전에서야 통보 받았을 정도.\\n  일부 정무라인만 알았던 듯하다”라며 “오 전 시장도 정무라인도 모두 짐을 싸고 시청을 나갔는데 정말 괘씸하다.\\n  쑥대밭을 만들어 놓고 나가 직원들 모두 ‘멘붕’ 상태다”고 했다.\\n  여정섭 부산시 노조위원장은 “직원들 모두 전혀 꿈도 꾸지 못한 일이다.\\n  보좌진들마저도 금시초문이었다고 들었다.\\n  오늘(23일) 오전 9시에 오 전 시장 기자회견이 잡혔다는 말을 듣고 처음엔 정무라인 교체 관련 이야기를 하겠거니 생각했는데 갑자기 성추행 이야기가 나왔다”고 전했다.\\n   부산시의 오 전 시장 정무라인은 10여명 정도다.\\n  하지만 이날 오 시장이 사퇴 직후 이들 정무라인들도 모두 짐을 싸 시청을 떠난 뒤 연락이 닿지 않고 있다.\\n  이들 대부분에게 ‘오 전 시장 성추행 사건을 언제 알았는지, 민주당 등 여권 측과 이 내용을 상의한 적이 있는지, 피해자에게 사퇴 시기를 요구한 적이 있는지’ 등을 다시 확인하기 위해 수차례 전화를 했으나 연락을 받지 않았다.\\n '},\n",
       "  {'role': 'assistant',\n",
       "   'content': '오거돈 전 부산시장의 성추행 사건이 불거진 후 정치권을 중심으로 여권이 이 사실을 사전에 몰랐을까 하는 의문이 커지고 있다. 반면 민주당은 이를 강하게 부인하면서 진실공방 양상으로 번지고 있다.'}]}"
      ]
     },
     "execution_count": 154,
     "metadata": {},
     "output_type": "execute_result"
    }
   ],
   "source": [
    "make_prompt(ds['train'][0]) # train의 첫번째 data"
   ]
  },
  {
   "cell_type": "code",
   "execution_count": 155,
   "id": "1860c5e4",
   "metadata": {},
   "outputs": [
    {
     "name": "stdout",
     "output_type": "stream",
     "text": [
      "<class 'list'>\n"
     ]
    },
    {
     "data": {
      "text/plain": [
       "{'custom_data': [{'role': 'user',\n",
       "   'content': '오거돈 전 부산시장의 성추행 사건이 불거진 후 정치권을 중심으로 여권이 이 사실을 사전에 몰랐을까 하는 의문이 커지고 있다.\\n  미래통합당은 여권이 총선을 의식해 조직적으로 오 전 시장의 사퇴 시기를 조율했다는 의혹을 제기하고 있다.\\n  반면 민주당은 이를 강하게 부인하면서 진실공방 양상으로 번지고 있다.\\n   23일 부산성폭력상담소(이하 상담소)와 부산시 등에 따르면 사건이 발생한 시기는 4월 초다.\\n  오 전 시장으로부터 성추행 피해를 본 공무원은 이날 입장문을 통해 “이달 초 오 전 시장 수행비서의 호출을 받았다.\\n  처음 있는 일이었다.\\n  업무시간이었고, 업무상 호출이라는 말에 서둘러 집무실로 갔고 그곳에서 성추행을 당했다”고 말했다.\\n   이 공무원은 피해를 본 다음날 바로 부산성폭력상담소를 찾아 도움을 요청했다.\\n  이후 상담소의 도움을 받아 오 전 시장의 정무라인 중 한 명을 통해 사퇴하라고 요구했다.\\n  이어 양측이 사퇴를 법적으로 보장받기 위해 공증하는 과정에 4월 말이라는 시한이 정해졌다.\\n   피해 공무원이 오 전 시장을 찾아간 날 비서실에는 5~6명의 인원이 있었다.\\n  대부분이 일반 공무원이고 1명 정도만 오 시장이 데려온 정무직 공무원인 것으로 전해졌다.\\n  하지만 그날 오 전 시장의 집무실에서 무슨 일이 있었는지 아는 공무원은 한명도 없다는 것이 부산시 측의 설명이다.\\n  부산시 한 고위 공무원은 “(오 전 시장이 기자회견을 하기까지 성추행 사실을) 전혀 몰랐다.\\n  기자회견을 한다는 사실 자체도 정무라인을 통해 알았고 그 내용도 회견 15분 전에서야 통보 받았을 정도.\\n  일부 정무라인만 알았던 듯하다”라며 “오 전 시장도 정무라인도 모두 짐을 싸고 시청을 나갔는데 정말 괘씸하다.\\n  쑥대밭을 만들어 놓고 나가 직원들 모두 ‘멘붕’ 상태다”고 했다.\\n  여정섭 부산시 노조위원장은 “직원들 모두 전혀 꿈도 꾸지 못한 일이다.\\n  보좌진들마저도 금시초문이었다고 들었다.\\n  오늘(23일) 오전 9시에 오 전 시장 기자회견이 잡혔다는 말을 듣고 처음엔 정무라인 교체 관련 이야기를 하겠거니 생각했는데 갑자기 성추행 이야기가 나왔다”고 전했다.\\n   부산시의 오 전 시장 정무라인은 10여명 정도다.\\n  하지만 이날 오 시장이 사퇴 직후 이들 정무라인들도 모두 짐을 싸 시청을 떠난 뒤 연락이 닿지 않고 있다.\\n  이들 대부분에게 ‘오 전 시장 성추행 사건을 언제 알았는지, 민주당 등 여권 측과 이 내용을 상의한 적이 있는지, 피해자에게 사퇴 시기를 요구한 적이 있는지’ 등을 다시 확인하기 위해 수차례 전화를 했으나 연락을 받지 않았다.\\n '},\n",
       "  {'role': 'assistant',\n",
       "   'content': '오거돈 전 부산시장의 성추행 사건이 불거진 후 정치권을 중심으로 여권이 이 사실을 사전에 몰랐을까 하는 의문이 커지고 있다. 반면 민주당은 이를 강하게 부인하면서 진실공방 양상으로 번지고 있다.'}]}"
      ]
     },
     "execution_count": 155,
     "metadata": {},
     "output_type": "execute_result"
    }
   ],
   "source": [
    "map_prompt = list(map(make_prompt, ds['train'])) # map으로 요소들을 iterate하며 변환 후, list로 합침\n",
    "print(type(map_prompt))\n",
    "map_prompt[0]"
   ]
  },
  {
   "cell_type": "code",
   "execution_count": 156,
   "id": "8779d5ba",
   "metadata": {},
   "outputs": [
    {
     "data": {
      "text/plain": [
       "Dataset({\n",
       "    features: ['original', 'summary'],\n",
       "    num_rows: 10\n",
       "})"
      ]
     },
     "execution_count": 156,
     "metadata": {},
     "output_type": "execute_result"
    }
   ],
   "source": [
    "sample_ds = ds['train'].select(range(10)) # 랜덤으로  10개 뽑기\n",
    "sample_ds"
   ]
  },
  {
   "cell_type": "code",
   "execution_count": 157,
   "id": "f262ba35",
   "metadata": {},
   "outputs": [
    {
     "data": {
      "application/vnd.jupyter.widget-view+json": {
       "model_id": "38a7d5e228ce44318ad122a84970a3e1",
       "version_major": 2,
       "version_minor": 0
      },
      "text/plain": [
       "Map:   0%|          | 0/10 [00:00<?, ? examples/s]"
      ]
     },
     "metadata": {},
     "output_type": "display_data"
    },
    {
     "data": {
      "text/plain": [
       "{'original': '오거돈 전 부산시장의 성추행 사건이 불거진 후 정치권을 중심으로 여권이 이 사실을 사전에 몰랐을까 하는 의문이 커지고 있다.\\n  미래통합당은 여권이 총선을 의식해 조직적으로 오 전 시장의 사퇴 시기를 조율했다는 의혹을 제기하고 있다.\\n  반면 민주당은 이를 강하게 부인하면서 진실공방 양상으로 번지고 있다.\\n   23일 부산성폭력상담소(이하 상담소)와 부산시 등에 따르면 사건이 발생한 시기는 4월 초다.\\n  오 전 시장으로부터 성추행 피해를 본 공무원은 이날 입장문을 통해 “이달 초 오 전 시장 수행비서의 호출을 받았다.\\n  처음 있는 일이었다.\\n  업무시간이었고, 업무상 호출이라는 말에 서둘러 집무실로 갔고 그곳에서 성추행을 당했다”고 말했다.\\n   이 공무원은 피해를 본 다음날 바로 부산성폭력상담소를 찾아 도움을 요청했다.\\n  이후 상담소의 도움을 받아 오 전 시장의 정무라인 중 한 명을 통해 사퇴하라고 요구했다.\\n  이어 양측이 사퇴를 법적으로 보장받기 위해 공증하는 과정에 4월 말이라는 시한이 정해졌다.\\n   피해 공무원이 오 전 시장을 찾아간 날 비서실에는 5~6명의 인원이 있었다.\\n  대부분이 일반 공무원이고 1명 정도만 오 시장이 데려온 정무직 공무원인 것으로 전해졌다.\\n  하지만 그날 오 전 시장의 집무실에서 무슨 일이 있었는지 아는 공무원은 한명도 없다는 것이 부산시 측의 설명이다.\\n  부산시 한 고위 공무원은 “(오 전 시장이 기자회견을 하기까지 성추행 사실을) 전혀 몰랐다.\\n  기자회견을 한다는 사실 자체도 정무라인을 통해 알았고 그 내용도 회견 15분 전에서야 통보 받았을 정도.\\n  일부 정무라인만 알았던 듯하다”라며 “오 전 시장도 정무라인도 모두 짐을 싸고 시청을 나갔는데 정말 괘씸하다.\\n  쑥대밭을 만들어 놓고 나가 직원들 모두 ‘멘붕’ 상태다”고 했다.\\n  여정섭 부산시 노조위원장은 “직원들 모두 전혀 꿈도 꾸지 못한 일이다.\\n  보좌진들마저도 금시초문이었다고 들었다.\\n  오늘(23일) 오전 9시에 오 전 시장 기자회견이 잡혔다는 말을 듣고 처음엔 정무라인 교체 관련 이야기를 하겠거니 생각했는데 갑자기 성추행 이야기가 나왔다”고 전했다.\\n   부산시의 오 전 시장 정무라인은 10여명 정도다.\\n  하지만 이날 오 시장이 사퇴 직후 이들 정무라인들도 모두 짐을 싸 시청을 떠난 뒤 연락이 닿지 않고 있다.\\n  이들 대부분에게 ‘오 전 시장 성추행 사건을 언제 알았는지, 민주당 등 여권 측과 이 내용을 상의한 적이 있는지, 피해자에게 사퇴 시기를 요구한 적이 있는지’ 등을 다시 확인하기 위해 수차례 전화를 했으나 연락을 받지 않았다.\\n ',\n",
       " 'summary': '오거돈 전 부산시장의 성추행 사건이 불거진 후 정치권을 중심으로 여권이 이 사실을 사전에 몰랐을까 하는 의문이 커지고 있다. 반면 민주당은 이를 강하게 부인하면서 진실공방 양상으로 번지고 있다.',\n",
       " 'custom_data': [{'content': '오거돈 전 부산시장의 성추행 사건이 불거진 후 정치권을 중심으로 여권이 이 사실을 사전에 몰랐을까 하는 의문이 커지고 있다.\\n  미래통합당은 여권이 총선을 의식해 조직적으로 오 전 시장의 사퇴 시기를 조율했다는 의혹을 제기하고 있다.\\n  반면 민주당은 이를 강하게 부인하면서 진실공방 양상으로 번지고 있다.\\n   23일 부산성폭력상담소(이하 상담소)와 부산시 등에 따르면 사건이 발생한 시기는 4월 초다.\\n  오 전 시장으로부터 성추행 피해를 본 공무원은 이날 입장문을 통해 “이달 초 오 전 시장 수행비서의 호출을 받았다.\\n  처음 있는 일이었다.\\n  업무시간이었고, 업무상 호출이라는 말에 서둘러 집무실로 갔고 그곳에서 성추행을 당했다”고 말했다.\\n   이 공무원은 피해를 본 다음날 바로 부산성폭력상담소를 찾아 도움을 요청했다.\\n  이후 상담소의 도움을 받아 오 전 시장의 정무라인 중 한 명을 통해 사퇴하라고 요구했다.\\n  이어 양측이 사퇴를 법적으로 보장받기 위해 공증하는 과정에 4월 말이라는 시한이 정해졌다.\\n   피해 공무원이 오 전 시장을 찾아간 날 비서실에는 5~6명의 인원이 있었다.\\n  대부분이 일반 공무원이고 1명 정도만 오 시장이 데려온 정무직 공무원인 것으로 전해졌다.\\n  하지만 그날 오 전 시장의 집무실에서 무슨 일이 있었는지 아는 공무원은 한명도 없다는 것이 부산시 측의 설명이다.\\n  부산시 한 고위 공무원은 “(오 전 시장이 기자회견을 하기까지 성추행 사실을) 전혀 몰랐다.\\n  기자회견을 한다는 사실 자체도 정무라인을 통해 알았고 그 내용도 회견 15분 전에서야 통보 받았을 정도.\\n  일부 정무라인만 알았던 듯하다”라며 “오 전 시장도 정무라인도 모두 짐을 싸고 시청을 나갔는데 정말 괘씸하다.\\n  쑥대밭을 만들어 놓고 나가 직원들 모두 ‘멘붕’ 상태다”고 했다.\\n  여정섭 부산시 노조위원장은 “직원들 모두 전혀 꿈도 꾸지 못한 일이다.\\n  보좌진들마저도 금시초문이었다고 들었다.\\n  오늘(23일) 오전 9시에 오 전 시장 기자회견이 잡혔다는 말을 듣고 처음엔 정무라인 교체 관련 이야기를 하겠거니 생각했는데 갑자기 성추행 이야기가 나왔다”고 전했다.\\n   부산시의 오 전 시장 정무라인은 10여명 정도다.\\n  하지만 이날 오 시장이 사퇴 직후 이들 정무라인들도 모두 짐을 싸 시청을 떠난 뒤 연락이 닿지 않고 있다.\\n  이들 대부분에게 ‘오 전 시장 성추행 사건을 언제 알았는지, 민주당 등 여권 측과 이 내용을 상의한 적이 있는지, 피해자에게 사퇴 시기를 요구한 적이 있는지’ 등을 다시 확인하기 위해 수차례 전화를 했으나 연락을 받지 않았다.\\n ',\n",
       "   'role': 'user'},\n",
       "  {'content': '오거돈 전 부산시장의 성추행 사건이 불거진 후 정치권을 중심으로 여권이 이 사실을 사전에 몰랐을까 하는 의문이 커지고 있다. 반면 민주당은 이를 강하게 부인하면서 진실공방 양상으로 번지고 있다.',\n",
       "   'role': 'assistant'}]}"
      ]
     },
     "execution_count": 157,
     "metadata": {},
     "output_type": "execute_result"
    }
   ],
   "source": [
    "# 원본 데이터 외에 custom_data라는 키를 가진 feature가 새롭게 추가됨\n",
    "sample_ds = sample_ds.map(make_prompt)\n",
    "sample_ds[0]"
   ]
  },
  {
   "cell_type": "code",
   "execution_count": 162,
   "id": "3d657017",
   "metadata": {},
   "outputs": [
    {
     "data": {
      "text/plain": [
       "DatasetDict({\n",
       "    train: Dataset({\n",
       "        features: ['original', 'summary', 'custom_data'],\n",
       "        num_rows: 3\n",
       "    })\n",
       "})"
      ]
     },
     "execution_count": 162,
     "metadata": {},
     "output_type": "execute_result"
    }
   ],
   "source": [
    "my_data = load_dataset('json', data_files='../data/mydata.json')\n",
    "md = my_data.map(make_prompt)\n",
    "md"
   ]
  }
 ],
 "metadata": {
  "kernelspec": {
   "display_name": "llm",
   "language": "python",
   "name": "python3"
  },
  "language_info": {
   "codemirror_mode": {
    "name": "ipython",
    "version": 3
   },
   "file_extension": ".py",
   "mimetype": "text/x-python",
   "name": "python",
   "nbconvert_exporter": "python",
   "pygments_lexer": "ipython3",
   "version": "3.10.18"
  }
 },
 "nbformat": 4,
 "nbformat_minor": 5
}
