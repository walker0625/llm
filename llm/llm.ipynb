{
 "cells": [
  {
   "cell_type": "markdown",
   "id": "9395bb5c",
   "metadata": {},
   "source": [
    "# Chat GPT API\n",
    "\n",
    "##### uv add python-dotenv\n",
    "##### uv add openai"
   ]
  },
  {
   "cell_type": "code",
   "execution_count": 11,
   "id": "8b9e6f35",
   "metadata": {},
   "outputs": [
    {
     "name": "stdout",
     "output_type": "stream",
     "text": [
      "물론이죠! 친구에게 전하는 따뜻한 응원 메시지를 아래와 같이 만들어보았습니다.\n",
      "\n",
      "---\n",
      "\n",
      "**친구야,**\n",
      "\n",
      "개발에 첫 발을 내딛는 너에게 정말 멋진 도전을 하고 있다고 말하고 싶어. 처음엔 어렵고 헷갈리는 것도 많겠지만, 그 모든 과정이 너를 한 단계 성장시키는 소중한 경험이 될 거야. 작은 성취에 웃고, 어려움에 부딪히면 다시 일어나서 도전하는 너의 모습이 멋져 보여. 언제나 너의 열정을 응원하고 있다는 걸 잊지 말고, 천천히 한 걸음씩 앞으로 나아가자. 너라면 충분히 잘 해낼 수 있어!\n",
      "\n",
      "화이팅! 💪🔥\n",
      "\n",
      "---\n",
      "\n",
      "도움이 되었으면 좋겠어요!\n"
     ]
    }
   ],
   "source": [
    "from dotenv import load_dotenv\n",
    "from openai import OpenAI\n",
    "\n",
    "# 키를 굳이 넣을 필요는 없음\n",
    "load_dotenv()\n",
    "\n",
    "client = OpenAI()\n",
    "\n",
    "response = client.chat.completions.create(\n",
    "    model='gpt-4.1-nano',\n",
    "    messages=[\n",
    "        {\n",
    "            'role' : 'system',\n",
    "            'content' : '당신은 경험이 풍부하며 인격적으로도 성숙한 시니어 개발자이며, 후배 개발자를 아끼는 마음을 평소에 가지고 있습니다. 친구가 개발을 시작하는 단계라는 걸 알게 되었어요'\n",
    "        },\n",
    "        {\n",
    "            'role' : 'user',\n",
    "            'content' : '친구에게 전하는 응원 메세지를 작성해주세요.'\n",
    "        }   \n",
    "    ],\n",
    "    temperature=1.0\n",
    ")\n",
    "\n",
    "answer = response.choices[0].message.content\n",
    "print(answer)"
   ]
  },
  {
   "cell_type": "markdown",
   "id": "113f7bd3",
   "metadata": {},
   "source": []
  }
 ],
 "metadata": {
  "kernelspec": {
   "display_name": "llm",
   "language": "python",
   "name": "python3"
  },
  "language_info": {
   "codemirror_mode": {
    "name": "ipython",
    "version": 3
   },
   "file_extension": ".py",
   "mimetype": "text/x-python",
   "name": "python",
   "nbconvert_exporter": "python",
   "pygments_lexer": "ipython3",
   "version": "3.10.18"
  }
 },
 "nbformat": 4,
 "nbformat_minor": 5
}
